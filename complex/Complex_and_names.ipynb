{
  "nbformat": 4,
  "nbformat_minor": 0,
  "metadata": {
    "colab": {
      "provenance": [],
      "authorship_tag": "ABX9TyO8GfXjEqHXEYMIU+UVv1iH",
      "include_colab_link": true
    },
    "kernelspec": {
      "name": "python3",
      "display_name": "Python 3"
    },
    "language_info": {
      "name": "python"
    }
  },
  "cells": [
    {
      "cell_type": "markdown",
      "metadata": {
        "id": "view-in-github",
        "colab_type": "text"
      },
      "source": [
        "<a href=\"https://colab.research.google.com/github/Ayesha4089/agentic-ai0/blob/main/complex/Complex_and_names.ipynb\" target=\"_parent\"><img src=\"https://colab.research.google.com/assets/colab-badge.svg\" alt=\"Open In Colab\"/></a>"
      ]
    },
    {
      "cell_type": "code",
      "execution_count": 2,
      "metadata": {
        "colab": {
          "base_uri": "https://localhost:8080/"
        },
        "id": "Wvls-833G_j0",
        "outputId": "304f44f5-b5e6-40bf-bc9a-a8c61ee17853"
      },
      "outputs": [
        {
          "output_type": "stream",
          "name": "stdout",
          "text": [
            "(6+1j)\n",
            "<class 'complex'>\n"
          ]
        }
      ],
      "source": [
        "complex_number=6+1j\n",
        "print(complex_number)\n",
        "print(type(complex_number))\n"
      ]
    },
    {
      "cell_type": "code",
      "source": [
        "name : str= 'Mahnoor'\n",
        "name2 : str= 'Samia'\n",
        "print(name)\n",
        "print(type(name))"
      ],
      "metadata": {
        "colab": {
          "base_uri": "https://localhost:8080/"
        },
        "id": "3L4cJqyTKDLx",
        "outputId": "6af12977-0324-4575-8c8d-75debcff4774"
      },
      "execution_count": 4,
      "outputs": [
        {
          "output_type": "stream",
          "name": "stdout",
          "text": [
            "Mahnoor\n",
            "<class 'str'>\n"
          ]
        }
      ]
    }
  ]
}